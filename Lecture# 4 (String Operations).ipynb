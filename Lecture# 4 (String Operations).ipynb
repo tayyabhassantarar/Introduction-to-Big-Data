{
 "cells": [
  {
   "cell_type": "markdown",
   "id": "3b42cf41",
   "metadata": {},
   "source": [
    "# String Operation"
   ]
  },
  {
   "cell_type": "code",
   "execution_count": 10,
   "id": "af84f35e",
   "metadata": {},
   "outputs": [
    {
     "name": "stdout",
     "output_type": "stream",
     "text": [
      "<class 'str'>\n",
      "T\n",
      "a\n"
     ]
    },
    {
     "data": {
      "text/plain": [
       "'r'"
      ]
     },
     "execution_count": 10,
     "metadata": {},
     "output_type": "execute_result"
    }
   ],
   "source": [
    "ucp = \"Tayyab Hassan Tarar\"    # String as similar to array\n",
    "print (type (ucp))  # print type\n",
    "print (ucp [0])    # first index of string\n",
    "print (ucp [1])\n",
    "\n",
    "print (ucp [-1])   # if starts from last index, it always starts from -1\n"
   ]
  },
  {
   "cell_type": "code",
   "execution_count": 19,
   "id": "14fd0292",
   "metadata": {},
   "outputs": [
    {
     "name": "stdout",
     "output_type": "stream",
     "text": [
      "Tayyab Hassan T\n"
     ]
    }
   ],
   "source": [
    "ucp = \"Tayyab Hassan Tarar\"    # String as similar to array\n",
    "\n",
    "print (ucp[0:15])    # 0 starting index, and 15 last index,   Semicolon is its syntax\n"
   ]
  },
  {
   "cell_type": "code",
   "execution_count": 18,
   "id": "4c96d4b4",
   "metadata": {},
   "outputs": [
    {
     "data": {
      "text/plain": [
       "'Tayyab Hassan Tara'"
      ]
     },
     "execution_count": 18,
     "metadata": {},
     "output_type": "execute_result"
    }
   ],
   "source": [
    "# Printing whole array\n",
    "ucp = \"Tayyab Hassan Tarar\"    # String as similar to array\n",
    "ucp[:-1]    # -1 is the last index, while first index intentionally kept empty\n"
   ]
  },
  {
   "cell_type": "code",
   "execution_count": 21,
   "id": "e66d0e7f",
   "metadata": {},
   "outputs": [
    {
     "data": {
      "text/plain": [
       "'Tya asnTr'"
      ]
     },
     "execution_count": 21,
     "metadata": {},
     "output_type": "execute_result"
    }
   ],
   "source": [
    "# Increment in index of array \n",
    "ucp = \"tayyab Hassan Tarar\"    # String as similar to array\n",
    "ucp[0:-1:2]    # -1 is the last index, while first index intentionally kept empty, 2 is increment in index\n"
   ]
  },
  {
   "cell_type": "code",
   "execution_count": 29,
   "id": "10081c6a",
   "metadata": {},
   "outputs": [
    {
     "name": "stdout",
     "output_type": "stream",
     "text": [
      "lower characters:--   tayyab hassan tarar\n",
      "Capital characters:--  TAYYAB HASSAN TARAR\n",
      "First Capital character:--  Tayyab Hassan Tarar\n"
     ]
    }
   ],
   "source": [
    "# Conversions of upper, lower, and title character accordingly\n",
    "\n",
    "print (\"lower characters:--  \", ucp.lower())  # built in function for lower characters\n",
    "print (\"Capital characters:-- \",ucp.upper())  # built in function for upper characters\n",
    "\n",
    "print (\"First Capital character:-- \",ucp.title())  # built in function for upper characters"
   ]
  },
  {
   "cell_type": "code",
   "execution_count": 40,
   "id": "1535995e",
   "metadata": {},
   "outputs": [
    {
     "name": "stdout",
     "output_type": "stream",
     "text": [
      "Tayyab Hassan Tarar hafizabad hafizabad hafizabad hafizabad hafizabad hafizabad hafizabad hafizabad hafizabad ,Punjab\n"
     ]
    }
   ],
   "source": [
    "# Concatenation\n",
    "city=\"hafizabad\"\n",
    "province=\",Punjab\"\n",
    "ucp= ucp+ \" \"+ city+\" \"+province\n",
    "print (ucp)   # Adds the string with concatenation"
   ]
  },
  {
   "cell_type": "code",
   "execution_count": 41,
   "id": "67d924fb",
   "metadata": {},
   "outputs": [
    {
     "data": {
      "text/plain": [
       "135"
      ]
     },
     "execution_count": 41,
     "metadata": {},
     "output_type": "execute_result"
    }
   ],
   "source": [
    "# length of a updated string\n",
    "city=\"hafizabad\"\n",
    "province=\",Punjab\"\n",
    "ucp= ucp+ \" \"+ city+\" \"+province\n",
    "len (ucp)   # length of a string"
   ]
  },
  {
   "cell_type": "code",
   "execution_count": 45,
   "id": "cc841c53",
   "metadata": {},
   "outputs": [
    {
     "data": {
      "text/plain": [
       "135"
      ]
     },
     "execution_count": 45,
     "metadata": {},
     "output_type": "execute_result"
    }
   ],
   "source": [
    "# Total count by function\n",
    "def length (a):\n",
    "    count =0\n",
    "    for w in a:\n",
    "        count =count +1\n",
    "    return count\n",
    "length (ucp)"
   ]
  },
  {
   "cell_type": "code",
   "execution_count": 48,
   "id": "08659416",
   "metadata": {},
   "outputs": [
    {
     "data": {
      "text/plain": [
       "['Tayyab',\n",
       " 'Hassan',\n",
       " 'Tarar',\n",
       " 'hafizabad',\n",
       " 'hafizabad',\n",
       " 'hafizabad',\n",
       " 'hafizabad',\n",
       " 'hafizabad',\n",
       " 'hafizabad',\n",
       " 'hafizabad',\n",
       " 'hafizabad',\n",
       " 'hafizabad',\n",
       " ',Punjab',\n",
       " 'hafizabad',\n",
       " ',Punjab']"
      ]
     },
     "execution_count": 48,
     "metadata": {},
     "output_type": "execute_result"
    }
   ],
   "source": [
    "# make a list by split function\n",
    "ucp.split (\" \")  # list by commas"
   ]
  },
  {
   "cell_type": "code",
   "execution_count": 51,
   "id": "e21370fa",
   "metadata": {},
   "outputs": [
    {
     "data": {
      "text/plain": [
       "True"
      ]
     },
     "execution_count": 51,
     "metadata": {},
     "output_type": "execute_result"
    }
   ],
   "source": [
    "# Find a character from array\n",
    "\"T\" in ucp   # Character in quotations"
   ]
  },
  {
   "cell_type": "code",
   "execution_count": 54,
   "id": "55689fc5",
   "metadata": {},
   "outputs": [
    {
     "data": {
      "text/plain": [
       "False"
      ]
     },
     "execution_count": 54,
     "metadata": {},
     "output_type": "execute_result"
    }
   ],
   "source": [
    "# Find a character from array\n",
    "\"Tayb\" in ucp   # Character in quotations"
   ]
  },
  {
   "cell_type": "code",
   "execution_count": 56,
   "id": "e1d1ceef",
   "metadata": {},
   "outputs": [
    {
     "name": "stdout",
     "output_type": "stream",
     "text": [
      "On 15 August 1996, The Punjab Group of Colleges petitioned Government of Punjab for the establishment of a university in the province. \\Punjab Institute of Computer Science (PICS), Punjab College of Commerce (PCC), Punjab Law College (PLC) and Punjab College of Information Technology (PCIT) formed the core of the university at the time of establishment. Following a restructuring in 2004, the PCBA and PICS operate under the Faculty of Management Studies and Faculty of Information Technology of the University of Central Punjab respectively. The Punjab Colleges of Commerce and the Punjab Law College respectively function under the Faculties of Commerce and of Law of the University of Central Punjab. The Faculty of Engineering (FOE) was introduced in 2002.\n"
     ]
    }
   ],
   "source": [
    "# Print whole paragraph\n",
    "ucpHistory= \"On 15 August 1996, The Punjab Group of Colleges petitioned Government of Punjab for the establishment of a university in the province. \\Punjab Institute of Computer Science (PICS), Punjab College of Commerce (PCC), Punjab Law College (PLC) and Punjab College of Information Technology (PCIT) formed the core of the university at the time of establishment. Following a restructuring in 2004, the PCBA and PICS operate under the Faculty of Management Studies and Faculty of Information Technology of the University of Central Punjab respectively. The Punjab Colleges of Commerce and the Punjab Law College respectively function under the Faculties of Commerce and of Law of the University of Central Punjab. The Faculty of Engineering (FOE) was introduced in 2002.\" \n",
    "print (ucpHistory)"
   ]
  },
  {
   "cell_type": "markdown",
   "id": "d1982e3b",
   "metadata": {},
   "source": [
    "# --HOMEWORK--\n",
    "# Task:1 - Count words\n",
    "# Task:2 - Remove \"of\" without using built in functions"
   ]
  },
  {
   "cell_type": "code",
   "execution_count": 62,
   "id": "80499694",
   "metadata": {},
   "outputs": [
    {
     "data": {
      "text/plain": [
       "117"
      ]
     },
     "execution_count": 62,
     "metadata": {},
     "output_type": "execute_result"
    }
   ],
   "source": [
    "# Task 1\n",
    "ucpHistory= \"On 15 August 1996, The Punjab Group of Colleges petitioned Government of Punjab for the establishment of a university in the province. \\Punjab Institute of Computer Science (PICS), Punjab College of Commerce (PCC), Punjab Law College (PLC) and Punjab College of Information Technology (PCIT) formed the core of the university at the time of establishment. Following a restructuring in 2004, the PCBA and PICS operate under the Faculty of Management Studies and Faculty of Information Technology of the University of Central Punjab respectively. The Punjab Colleges of Commerce and the Punjab Law College respectively function under the Faculties of Commerce and of Law of the University of Central Punjab. The Faculty of Engineering (FOE) was introduced in 2002.\" \n",
    "# Total count by function\n",
    "\n",
    "def length (a):   # Method 1: counting spaces\n",
    "    count =0\n",
    "    for w in a:\n",
    "        if (w==\" \"):\n",
    "            count =count +1\n",
    "        \n",
    "    return count\n",
    "length(ucpHistory)"
   ]
  },
  {
   "cell_type": "code",
   "execution_count": 64,
   "id": "eda78523",
   "metadata": {},
   "outputs": [
    {
     "data": {
      "text/plain": [
       "118"
      ]
     },
     "execution_count": 64,
     "metadata": {},
     "output_type": "execute_result"
    }
   ],
   "source": [
    "# Task 1\n",
    "ucpHistory= \"On 15 August 1996, The Punjab Group of Colleges petitioned Government of Punjab for the establishment of a university in the province. \\Punjab Institute of Computer Science (PICS), Punjab College of Commerce (PCC), Punjab Law College (PLC) and Punjab College of Information Technology (PCIT) formed the core of the university at the time of establishment. Following a restructuring in 2004, the PCBA and PICS operate under the Faculty of Management Studies and Faculty of Information Technology of the University of Central Punjab respectively. The Punjab Colleges of Commerce and the Punjab Law College respectively function under the Faculties of Commerce and of Law of the University of Central Punjab. The Faculty of Engineering (FOE) was introduced in 2002.\" \n",
    "# Total count by function\n",
    "\n",
    "countwords=ucpHistory.split(\" \")   # Method 2: function counting spaces\n",
    "len (countwords)   # Built in function for length finding"
   ]
  },
  {
   "cell_type": "markdown",
   "id": "04e19d93",
   "metadata": {},
   "source": [
    "# Task 2"
   ]
  },
  {
   "cell_type": "code",
   "execution_count": null,
   "id": "d14603ca",
   "metadata": {},
   "outputs": [],
   "source": [
    "# Task 2\n",
    "ucpHistory= \"On 15 August 1996, The Punjab Group of Colleges petitioned Government of Punjab for the establishment of a university in the province. \\Punjab Institute of Computer Science (PICS), Punjab College of Commerce (PCC), Punjab Law College (PLC) and Punjab College of Information Technology (PCIT) formed the core of the university at the time of establishment. Following a restructuring in 2004, the PCBA and PICS operate under the Faculty of Management Studies and Faculty of Information Technology of the University of Central Punjab respectively. The Punjab Colleges of Commerce and the Punjab Law College respectively function under the Faculties of Commerce and of Law of the University of Central Punjab. The Faculty of Engineering (FOE) was introduced in 2002.\" \n",
    "# Total count by function\n",
    "\n",
    "splitof=ucpHistory.split(\" \")   # Method 2: function counting spaces\n",
    "for i in range "
   ]
  }
 ],
 "metadata": {
  "kernelspec": {
   "display_name": "Python 3",
   "language": "python",
   "name": "python3"
  },
  "language_info": {
   "codemirror_mode": {
    "name": "ipython",
    "version": 3
   },
   "file_extension": ".py",
   "mimetype": "text/x-python",
   "name": "python",
   "nbconvert_exporter": "python",
   "pygments_lexer": "ipython3",
   "version": "3.8.8"
  }
 },
 "nbformat": 4,
 "nbformat_minor": 5
}
