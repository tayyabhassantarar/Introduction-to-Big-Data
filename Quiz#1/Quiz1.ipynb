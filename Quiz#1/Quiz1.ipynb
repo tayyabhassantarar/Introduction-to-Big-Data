{
 "cells": [
  {
   "cell_type": "markdown",
   "id": "6a5fc347",
   "metadata": {},
   "source": [
    "# Question# 2"
   ]
  },
  {
   "cell_type": "code",
   "execution_count": 24,
   "id": "74aff1b7",
   "metadata": {},
   "outputs": [
    {
     "data": {
      "text/html": [
       "<div>\n",
       "<style scoped>\n",
       "    .dataframe tbody tr th:only-of-type {\n",
       "        vertical-align: middle;\n",
       "    }\n",
       "\n",
       "    .dataframe tbody tr th {\n",
       "        vertical-align: top;\n",
       "    }\n",
       "\n",
       "    .dataframe thead th {\n",
       "        text-align: right;\n",
       "    }\n",
       "</style>\n",
       "<table border=\"1\" class=\"dataframe\">\n",
       "  <thead>\n",
       "    <tr style=\"text-align: right;\">\n",
       "      <th></th>\n",
       "      <th>S.No</th>\n",
       "      <th>Name</th>\n",
       "      <th>State</th>\n",
       "      <th>Gender</th>\n",
       "      <th>Age</th>\n",
       "    </tr>\n",
       "  </thead>\n",
       "  <tbody>\n",
       "    <tr>\n",
       "      <th>0</th>\n",
       "      <td>0</td>\n",
       "      <td>Altaf</td>\n",
       "      <td>-</td>\n",
       "      <td>M</td>\n",
       "      <td>63</td>\n",
       "    </tr>\n",
       "    <tr>\n",
       "      <th>1</th>\n",
       "      <td>1</td>\n",
       "      <td>Imran</td>\n",
       "      <td>London</td>\n",
       "      <td>M</td>\n",
       "      <td>33</td>\n",
       "    </tr>\n",
       "    <tr>\n",
       "      <th>2</th>\n",
       "      <td>2</td>\n",
       "      <td>Hamza</td>\n",
       "      <td>Lahore</td>\n",
       "      <td>M</td>\n",
       "      <td>-</td>\n",
       "    </tr>\n",
       "    <tr>\n",
       "      <th>3</th>\n",
       "      <td>3</td>\n",
       "      <td>Bahtawar</td>\n",
       "      <td>Peshawar</td>\n",
       "      <td>F</td>\n",
       "      <td>19</td>\n",
       "    </tr>\n",
       "    <tr>\n",
       "      <th>4</th>\n",
       "      <td>4</td>\n",
       "      <td>Ranveer</td>\n",
       "      <td>Dehli</td>\n",
       "      <td>M</td>\n",
       "      <td>34</td>\n",
       "    </tr>\n",
       "    <tr>\n",
       "      <th>5</th>\n",
       "      <td>5</td>\n",
       "      <td>Kaif</td>\n",
       "      <td>Mumbai</td>\n",
       "      <td>-</td>\n",
       "      <td>32</td>\n",
       "    </tr>\n",
       "    <tr>\n",
       "      <th>6</th>\n",
       "      <td>6</td>\n",
       "      <td>Deepika</td>\n",
       "      <td>Lahore</td>\n",
       "      <td>F</td>\n",
       "      <td>31</td>\n",
       "    </tr>\n",
       "    <tr>\n",
       "      <th>7</th>\n",
       "      <td>7</td>\n",
       "      <td>Mahira</td>\n",
       "      <td>Karachi</td>\n",
       "      <td>-</td>\n",
       "      <td>38</td>\n",
       "    </tr>\n",
       "    <tr>\n",
       "      <th>8</th>\n",
       "      <td>8</td>\n",
       "      <td>Waseem</td>\n",
       "      <td>-</td>\n",
       "      <td>M</td>\n",
       "      <td>-</td>\n",
       "    </tr>\n",
       "  </tbody>\n",
       "</table>\n",
       "</div>"
      ],
      "text/plain": [
       "   S.No       Name      State Gender  Age\n",
       "0     0      Altaf          -      M   63\n",
       "1     1      Imran     London      M   33\n",
       "2     2      Hamza     Lahore      M    -\n",
       "3     3   Bahtawar   Peshawar      F   19\n",
       "4     4    Ranveer      Dehli      M   34\n",
       "5     5       Kaif     Mumbai      -   32\n",
       "6     6    Deepika     Lahore      F   31\n",
       "7     7     Mahira    Karachi      -   38\n",
       "8     8     Waseem          -      M    -"
      ]
     },
     "execution_count": 24,
     "metadata": {},
     "output_type": "execute_result"
    }
   ],
   "source": [
    "import pandas as pd  # import library , pd is the object for pandas \n",
    "df= pd.read_csv('quizdata.csv')\n",
    "df\n",
    "\n"
   ]
  },
  {
   "cell_type": "code",
   "execution_count": 41,
   "id": "5335e6d9",
   "metadata": {},
   "outputs": [
    {
     "data": {
      "text/plain": [
       "S.No      0\n",
       "Name      0\n",
       "State     0\n",
       "Gender    0\n",
       "Age       0\n",
       "dtype: int64"
      ]
     },
     "execution_count": 41,
     "metadata": {},
     "output_type": "execute_result"
    }
   ],
   "source": [
    "import numpy as np   # make the whole changes in the file on slash -\n",
    "df.replace(\"-\",np.nan,inplace=True)   # it replaces the - to nam that means there would be a null , and it displays NaN that place\n",
    "df.isnull()   # place false at the places where data exists, and true at where there exists no data\n",
    "df.isnull().sum()   # tells how much there is a null data, or how much there are true values\n",
    "\n",
    "df['State'].value_counts()    # replace State to null\n",
    "df['State'].value_counts().max()\n",
    "mx= df['State'].value_counts().idxmax()\n",
    "df['State'].replace(np.nan,mx,inplace=True)\n",
    "df.isnull().sum()\n",
    "\n",
    "df['Gender'].value_counts()    # replace Gender to null\n",
    "df['Gender'].value_counts().max()\n",
    "gn= df['Gender'].value_counts().idxmax()\n",
    "df['Gender'].replace(np.nan,gn,inplace=True)\n",
    "df.isnull().sum()\n",
    "\n",
    "ag=df ['Age'].astype('int').mean()       # replace Age to null, as it has integer datatype\n",
    "df['Age'].replace(np.nan,ag,inplace=True)\n",
    "df.isnull().sum()\n"
   ]
  },
  {
   "cell_type": "markdown",
   "id": "c254c285",
   "metadata": {},
   "source": [
    "# Question# 1\n",
    "\n",
    "Following are the steps for handling missing data!\n",
    "\n",
    "1. Replace the unknown data with NaN.\n",
    "2. Identify which datatype of each column has.\n",
    "3. If the type is quantitative, then replace all the unknowns with mean of entire column\n",
    "4. If it is of type quanlitative, then replace all the unknowns with most average value in each column. "
   ]
  },
  {
   "cell_type": "code",
   "execution_count": null,
   "id": "214bde59",
   "metadata": {},
   "outputs": [],
   "source": []
  },
  {
   "cell_type": "code",
   "execution_count": null,
   "id": "0ccfbe5c",
   "metadata": {},
   "outputs": [],
   "source": []
  }
 ],
 "metadata": {
  "kernelspec": {
   "display_name": "Python 3",
   "language": "python",
   "name": "python3"
  },
  "language_info": {
   "codemirror_mode": {
    "name": "ipython",
    "version": 3
   },
   "file_extension": ".py",
   "mimetype": "text/x-python",
   "name": "python",
   "nbconvert_exporter": "python",
   "pygments_lexer": "ipython3",
   "version": "3.8.8"
  }
 },
 "nbformat": 4,
 "nbformat_minor": 5
}
