{
 "cells": [
  {
   "cell_type": "code",
   "execution_count": 4,
   "id": "29056316",
   "metadata": {},
   "outputs": [
    {
     "name": "stdout",
     "output_type": "stream",
     "text": [
      "Tayyab hassan\n"
     ]
    }
   ],
   "source": [
    "print (\"Tayyab hassan\")"
   ]
  },
  {
   "cell_type": "code",
   "execution_count": 5,
   "id": "489ca46b",
   "metadata": {},
   "outputs": [],
   "source": [
    "x=5"
   ]
  },
  {
   "cell_type": "code",
   "execution_count": 6,
   "id": "f306e926",
   "metadata": {},
   "outputs": [
    {
     "name": "stdout",
     "output_type": "stream",
     "text": [
      "5\n"
     ]
    }
   ],
   "source": [
    "print (x)"
   ]
  },
  {
   "cell_type": "code",
   "execution_count": 7,
   "id": "4b9c0eca",
   "metadata": {},
   "outputs": [
    {
     "data": {
      "text/plain": [
       "int"
      ]
     },
     "execution_count": 7,
     "metadata": {},
     "output_type": "execute_result"
    }
   ],
   "source": [
    "type (x)"
   ]
  },
  {
   "cell_type": "code",
   "execution_count": 8,
   "id": "bbaf2e39",
   "metadata": {},
   "outputs": [
    {
     "data": {
      "text/plain": [
       "float"
      ]
     },
     "execution_count": 8,
     "metadata": {},
     "output_type": "execute_result"
    }
   ],
   "source": [
    "y=3.14\n",
    "type (y)\n"
   ]
  },
  {
   "cell_type": "code",
   "execution_count": 9,
   "id": "2966ab58",
   "metadata": {},
   "outputs": [
    {
     "name": "stdout",
     "output_type": "stream",
     "text": [
      "8.14\n"
     ]
    },
    {
     "data": {
      "text/plain": [
       "float"
      ]
     },
     "execution_count": 9,
     "metadata": {},
     "output_type": "execute_result"
    }
   ],
   "source": [
    "z=x+y\n",
    "print (z)\n",
    "type (z)\n"
   ]
  },
  {
   "cell_type": "code",
   "execution_count": 10,
   "id": "3b8cbd8a",
   "metadata": {},
   "outputs": [
    {
     "data": {
      "text/plain": [
       "6"
      ]
     },
     "execution_count": 10,
     "metadata": {},
     "output_type": "execute_result"
    }
   ],
   "source": [
    "2*3"
   ]
  },
  {
   "cell_type": "code",
   "execution_count": 11,
   "id": "1e53fe18",
   "metadata": {},
   "outputs": [
    {
     "name": "stdout",
     "output_type": "stream",
     "text": [
      "7\n"
     ]
    },
    {
     "data": {
      "text/plain": [
       "int"
      ]
     },
     "execution_count": 11,
     "metadata": {},
     "output_type": "execute_result"
    }
   ],
   "source": [
    "x= 2\n",
    "y=5\n",
    "z=x+y\n",
    "print (z)\n",
    "type (z)\n"
   ]
  },
  {
   "cell_type": "code",
   "execution_count": 12,
   "id": "bc0310e9",
   "metadata": {},
   "outputs": [
    {
     "data": {
      "text/plain": [
       "8"
      ]
     },
     "execution_count": 12,
     "metadata": {},
     "output_type": "execute_result"
    }
   ],
   "source": [
    "2**3 # 2 power 3"
   ]
  },
  {
   "cell_type": "code",
   "execution_count": 14,
   "id": "bbedf4a3",
   "metadata": {},
   "outputs": [
    {
     "name": "stdout",
     "output_type": "stream",
     "text": [
      "1.675\n",
      "<class 'float'>\n"
     ]
    }
   ],
   "source": [
    "x=4\n",
    "y=6.7\n",
    "z=y/x               # it also displays values after points\n",
    "print (z)\n",
    "print (type (y))    #it shows type of only y"
   ]
  },
  {
   "cell_type": "code",
   "execution_count": 18,
   "id": "0c1cf261",
   "metadata": {},
   "outputs": [
    {
     "name": "stdout",
     "output_type": "stream",
     "text": [
      "1.0\n",
      "<class 'float'>\n"
     ]
    }
   ],
   "source": [
    "x=4\n",
    "y=6.7\n",
    "z=y//x               # it replace values to 0 after point (or only exact value)\n",
    "print (z)\n",
    "print (type (y))    #it shows type of only y"
   ]
  },
  {
   "cell_type": "code",
   "execution_count": 19,
   "id": "5f3cc911",
   "metadata": {},
   "outputs": [
    {
     "name": "stdout",
     "output_type": "stream",
     "text": [
      "3\n"
     ]
    }
   ],
   "source": [
    "x=22\n",
    "y=7\n",
    "z=x//y\n",
    "print (z)\n"
   ]
  },
  {
   "cell_type": "code",
   "execution_count": 34,
   "id": "cee0b629",
   "metadata": {},
   "outputs": [
    {
     "name": "stdout",
     "output_type": "stream",
     "text": [
      "please enter X value: 10\n",
      "Please enter Y value: 2\n",
      "102\n"
     ]
    }
   ],
   "source": [
    "   #Take input from user\n",
    "\n",
    "\n",
    "# for c++   cin>>x;\n",
    "# for java  system.in (x);\n",
    "x=input (\"please enter X value: \")  # for python\n",
    "y=input (\"Please enter Y value: \")\n",
    "z=x+y\n",
    "print (z)    # it only displays both strings 10 and 5 = 105\n",
    "\n"
   ]
  },
  {
   "cell_type": "code",
   "execution_count": null,
   "id": "5b80eec8",
   "metadata": {},
   "outputs": [],
   "source": []
  },
  {
   "cell_type": "code",
   "execution_count": 27,
   "id": "4367519a",
   "metadata": {},
   "outputs": [
    {
     "name": "stdout",
     "output_type": "stream",
     "text": [
      "please enter X value: 15\n",
      "Please enter Y value: 5\n",
      "20\n"
     ]
    }
   ],
   "source": [
    "# for c++   cin>>x;\n",
    "# for java  system.in (x);\n",
    "\n",
    "\n",
    "x=int (input (\"please enter X value: \"))  # there must add datatype to perform any operation otherwise it only displays strings\n",
    "y=int (input (\"Please enter Y value: \"))\n",
    "z=x+y\n",
    "print (z)    # it adds both strings 10 and 5 = 105\n",
    "\n"
   ]
  },
  {
   "cell_type": "code",
   "execution_count": 29,
   "id": "c10f8640",
   "metadata": {},
   "outputs": [
    {
     "name": "stdout",
     "output_type": "stream",
     "text": [
      "please enter X value: 10\n",
      "Please enter Y value: 5\n",
      "5\n"
     ]
    }
   ],
   "source": [
    "# for c++   cin>>x;\n",
    "# for java  system.in (x);\n",
    "\n",
    "\n",
    "x=int (input (\"please enter X value: \"))  # there must add datatype to perform any operation otherwise it only displays strings\n",
    "y=int (input (\"Please enter Y value: \"))\n",
    "z=x-y   #Subtraction\n",
    "print (z)    # it adds both strings 10 and 5 = 105\n",
    "\n"
   ]
  },
  {
   "cell_type": "code",
   "execution_count": 33,
   "id": "b64de4db",
   "metadata": {},
   "outputs": [
    {
     "name": "stdout",
     "output_type": "stream",
     "text": [
      "please enter X value: 16\n",
      "Please enter Y value: 12\n",
      "16  +  12  =  4\n"
     ]
    }
   ],
   "source": [
    "# for c++   cin>>x;\n",
    "# for java  system.in (x);\n",
    "\n",
    "\n",
    "x=int (input (\"please enter X value: \"))  # there must add datatype to perform any operation otherwise it only displays strings\n",
    "y=int (input (\"Please enter Y value: \"))\n",
    "z=x-y   #Subtraction\n",
    "print (x, \" + \", y, \" = \", z)    # must focus on commas to separate variables\n",
    "\n"
   ]
  },
  {
   "cell_type": "code",
   "execution_count": 35,
   "id": "ee1babcb",
   "metadata": {},
   "outputs": [
    {
     "data": {
      "text/plain": [
       "True"
      ]
     },
     "execution_count": 35,
     "metadata": {},
     "output_type": "execute_result"
    }
   ],
   "source": [
    "   # Relational operators: \n",
    "    \n",
    "x<y"
   ]
  },
  {
   "cell_type": "code",
   "execution_count": 36,
   "id": "cf6b984c",
   "metadata": {},
   "outputs": [
    {
     "data": {
      "text/plain": [
       "False"
      ]
     },
     "execution_count": 36,
     "metadata": {},
     "output_type": "execute_result"
    }
   ],
   "source": [
    "   # Relational operators: \n",
    "\n",
    "x>y"
   ]
  },
  {
   "cell_type": "code",
   "execution_count": 40,
   "id": "5de3fdb5",
   "metadata": {},
   "outputs": [
    {
     "data": {
      "text/plain": [
       "False"
      ]
     },
     "execution_count": 40,
     "metadata": {},
     "output_type": "execute_result"
    }
   ],
   "source": [
    "   # Relational operators: \n",
    "\n",
    "x<y\n",
    "x=y\n",
    "x>y\n"
   ]
  },
  {
   "cell_type": "code",
   "execution_count": 41,
   "id": "3973972a",
   "metadata": {},
   "outputs": [
    {
     "name": "stdout",
     "output_type": "stream",
     "text": [
      "False\n"
     ]
    },
    {
     "ename": "TypeError",
     "evalue": "'x' is an invalid keyword argument for print()",
     "output_type": "error",
     "traceback": [
      "\u001b[1;31m---------------------------------------------------------------------------\u001b[0m",
      "\u001b[1;31mTypeError\u001b[0m                                 Traceback (most recent call last)",
      "\u001b[1;32m<ipython-input-41-97045705c3dd>\u001b[0m in \u001b[0;36m<module>\u001b[1;34m\u001b[0m\n\u001b[0;32m      2\u001b[0m \u001b[1;33m\u001b[0m\u001b[0m\n\u001b[0;32m      3\u001b[0m \u001b[0mprint\u001b[0m \u001b[1;33m(\u001b[0m\u001b[0mx\u001b[0m\u001b[1;33m<\u001b[0m\u001b[0my\u001b[0m\u001b[1;33m)\u001b[0m\u001b[1;33m\u001b[0m\u001b[1;33m\u001b[0m\u001b[0m\n\u001b[1;32m----> 4\u001b[1;33m \u001b[0mprint\u001b[0m \u001b[1;33m(\u001b[0m\u001b[0mx\u001b[0m\u001b[1;33m=\u001b[0m\u001b[0my\u001b[0m\u001b[1;33m)\u001b[0m\u001b[1;33m\u001b[0m\u001b[1;33m\u001b[0m\u001b[0m\n\u001b[0m\u001b[0;32m      5\u001b[0m \u001b[0mprint\u001b[0m \u001b[1;33m(\u001b[0m\u001b[0mx\u001b[0m\u001b[1;33m>\u001b[0m\u001b[0my\u001b[0m\u001b[1;33m)\u001b[0m\u001b[1;33m\u001b[0m\u001b[1;33m\u001b[0m\u001b[0m\n",
      "\u001b[1;31mTypeError\u001b[0m: 'x' is an invalid keyword argument for print()"
     ]
    }
   ],
   "source": [
    "   # Relational operators: \n",
    "\n",
    "print (x<y)\n",
    "print (x=y)\n",
    "print (x>y)\n"
   ]
  },
  {
   "cell_type": "code",
   "execution_count": 43,
   "id": "3ee2a04c",
   "metadata": {},
   "outputs": [
    {
     "data": {
      "text/plain": [
       "False"
      ]
     },
     "execution_count": 43,
     "metadata": {},
     "output_type": "execute_result"
    }
   ],
   "source": [
    "  #Logical operators\n",
    "    \n",
    "True and False   # first character must be capital"
   ]
  },
  {
   "cell_type": "code",
   "execution_count": 44,
   "id": "2812802a",
   "metadata": {},
   "outputs": [
    {
     "data": {
      "text/plain": [
       "True"
      ]
     },
     "execution_count": 44,
     "metadata": {},
     "output_type": "execute_result"
    }
   ],
   "source": [
    "  #Logical operators\n",
    "    \n",
    "True and True        "
   ]
  },
  {
   "cell_type": "code",
   "execution_count": 45,
   "id": "0b17359b",
   "metadata": {},
   "outputs": [
    {
     "data": {
      "text/plain": [
       "False"
      ]
     },
     "execution_count": 45,
     "metadata": {},
     "output_type": "execute_result"
    }
   ],
   "source": [
    "  #Logical operators\n",
    "    \n",
    "not True and not True"
   ]
  },
  {
   "cell_type": "code",
   "execution_count": 47,
   "id": "9f214360",
   "metadata": {},
   "outputs": [
    {
     "data": {
      "text/plain": [
       "True"
      ]
     },
     "execution_count": 47,
     "metadata": {},
     "output_type": "execute_result"
    }
   ],
   "source": [
    "  #Logical operators\n",
    "    \n",
    "not False and not False     # means both are true"
   ]
  },
  {
   "cell_type": "code",
   "execution_count": 49,
   "id": "012d2b49",
   "metadata": {},
   "outputs": [
    {
     "data": {
      "text/plain": [
       "False"
      ]
     },
     "execution_count": 49,
     "metadata": {},
     "output_type": "execute_result"
    }
   ],
   "source": [
    "x<y>z    # it actually compares values"
   ]
  },
  {
   "cell_type": "code",
   "execution_count": 51,
   "id": "bdb9a068",
   "metadata": {},
   "outputs": [
    {
     "name": "stdout",
     "output_type": "stream",
     "text": [
      "enter x: 6\n",
      "enter y: 5\n",
      "True\n"
     ]
    }
   ],
   "source": [
    "x=int (input (\"enter x: \"))\n",
    "y=int (input (\"enter y: \"))\n",
    "print (x>y)"
   ]
  },
  {
   "cell_type": "code",
   "execution_count": 59,
   "id": "31e738fc",
   "metadata": {},
   "outputs": [
    {
     "name": "stdout",
     "output_type": "stream",
     "text": [
      "enter x: \n",
      "10\n",
      "enter y: \n",
      "6\n",
      "6  is less than  10\n"
     ]
    }
   ],
   "source": [
    "   # IF- Else conditions\n",
    "\n",
    "\n",
    "x=int (input (\"enter x: \\n\"))  # datatype must be mentioned \n",
    "y=int (input (\"enter y: \\n\"))\n",
    "\n",
    "\n",
    "if x<y:              # collan shows the body of if statement \n",
    "    print (x, \" is less than \", y)    # it will move to 4 spaces automatically\n",
    "else:\n",
    "    print (y, \" is less than \", x)"
   ]
  },
  {
   "cell_type": "code",
   "execution_count": null,
   "id": "2f08985e",
   "metadata": {},
   "outputs": [],
   "source": []
  },
  {
   "cell_type": "code",
   "execution_count": 66,
   "id": "636fb74b",
   "metadata": {},
   "outputs": [
    {
     "name": "stdout",
     "output_type": "stream",
     "text": [
      "enter x: \n",
      "15\n",
      "enter y: \n",
      "10\n",
      "10  is greater than  15\n"
     ]
    }
   ],
   "source": [
    "   # Nested IF- Else conditions\n",
    "\n",
    "\n",
    "x=int (input (\"enter x: \\n\"))  # datatype must be mentioned \n",
    "y=int (input (\"enter y: \\n\"))\n",
    "\n",
    "\n",
    "if x<y:              # collan shows the body of if statement \n",
    "    print (x, \" is less than \", y)    # it will move to 4 spaces automatically\n",
    "    \n",
    "elif x>y:        #else if condition\n",
    "    print(y, \" is greater than \", x)"
   ]
  },
  {
   "cell_type": "code",
   "execution_count": 67,
   "id": "e52fc55c",
   "metadata": {},
   "outputs": [
    {
     "name": "stdout",
     "output_type": "stream",
     "text": [
      "0\n",
      "1\n",
      "2\n",
      "3\n",
      "4\n",
      "5\n",
      "6\n",
      "7\n",
      "8\n",
      "9\n"
     ]
    }
   ],
   "source": [
    "'''\n",
    "for (int x=0;x<10;x++)  # loop in C++\n",
    "{\n",
    "    cout <<x\n",
    "}\n",
    "'''\n",
    "for x in range (10):  # loop in Python start from index 0\n",
    "    print (x)"
   ]
  },
  {
   "cell_type": "code",
   "execution_count": 68,
   "id": "67efc4cb",
   "metadata": {},
   "outputs": [
    {
     "name": "stdout",
     "output_type": "stream",
     "text": [
      "1\n",
      "3\n",
      "5\n",
      "7\n",
      "9\n"
     ]
    }
   ],
   "source": [
    "'''\n",
    "for (int x=0;x<10;x++)  # loop in C++\n",
    "{\n",
    "    cout <<x\n",
    "}\n",
    "'''\n",
    "for x in range (1, 10, 2):  # 1 is starting point, 10 is ending point, 2 is increment in loop\n",
    "    print (x)"
   ]
  },
  {
   "cell_type": "code",
   "execution_count": 69,
   "id": "77ba5b11",
   "metadata": {},
   "outputs": [
    {
     "name": "stdout",
     "output_type": "stream",
     "text": [
      "1 3 5 7 9 "
     ]
    }
   ],
   "source": [
    "'''\n",
    "for (int x=0;x<10;x++)  # loop in C++\n",
    "{\n",
    "    cout <<x\n",
    "}\n",
    "'''\n",
    "\n",
    "   # Increment in loop\n",
    "    \n",
    "for x in range (1, 10, 2):  # 1 is starting point, 10 is ending point, 2 is increment in loop\n",
    "    print (x, end= \" \")     # syntax to print in a straight line"
   ]
  },
  {
   "cell_type": "code",
   "execution_count": 70,
   "id": "176a9932",
   "metadata": {},
   "outputs": [
    {
     "name": "stdout",
     "output_type": "stream",
     "text": [
      "10 8 6 4 2 "
     ]
    }
   ],
   "source": [
    "\n",
    "   # Decrement in loop\n",
    "\n",
    "for x in range (10, 1, -2):  # 1 is starting point, 10 is ending point, 2 is Decrement in loop\n",
    "    print (x, end= \" \")     # syntax to print in a straight line"
   ]
  },
  {
   "cell_type": "code",
   "execution_count": null,
   "id": "c44bcbc3",
   "metadata": {},
   "outputs": [],
   "source": []
  },
  {
   "cell_type": "code",
   "execution_count": null,
   "id": "f2131659",
   "metadata": {},
   "outputs": [],
   "source": []
  },
  {
   "cell_type": "code",
   "execution_count": null,
   "id": "4bfcd124",
   "metadata": {},
   "outputs": [],
   "source": []
  },
  {
   "cell_type": "code",
   "execution_count": null,
   "id": "56cd1799",
   "metadata": {},
   "outputs": [],
   "source": []
  },
  {
   "cell_type": "code",
   "execution_count": null,
   "id": "3e2b7e57",
   "metadata": {},
   "outputs": [],
   "source": []
  },
  {
   "cell_type": "code",
   "execution_count": null,
   "id": "974b4618",
   "metadata": {},
   "outputs": [],
   "source": []
  },
  {
   "cell_type": "code",
   "execution_count": null,
   "id": "6668598a",
   "metadata": {},
   "outputs": [],
   "source": []
  },
  {
   "cell_type": "code",
   "execution_count": null,
   "id": "90b18f3c",
   "metadata": {},
   "outputs": [],
   "source": []
  },
  {
   "cell_type": "code",
   "execution_count": null,
   "id": "4204a5f8",
   "metadata": {},
   "outputs": [],
   "source": []
  },
  {
   "cell_type": "code",
   "execution_count": null,
   "id": "b5f63854",
   "metadata": {},
   "outputs": [],
   "source": []
  },
  {
   "cell_type": "code",
   "execution_count": null,
   "id": "88ec78dc",
   "metadata": {},
   "outputs": [],
   "source": []
  },
  {
   "cell_type": "code",
   "execution_count": null,
   "id": "393228d9",
   "metadata": {},
   "outputs": [],
   "source": []
  },
  {
   "cell_type": "code",
   "execution_count": null,
   "id": "14c308a8",
   "metadata": {},
   "outputs": [],
   "source": []
  },
  {
   "cell_type": "code",
   "execution_count": null,
   "id": "7dad48b6",
   "metadata": {},
   "outputs": [],
   "source": []
  },
  {
   "cell_type": "code",
   "execution_count": null,
   "id": "7a406a60",
   "metadata": {},
   "outputs": [],
   "source": []
  },
  {
   "cell_type": "code",
   "execution_count": null,
   "id": "b3f812d6",
   "metadata": {},
   "outputs": [],
   "source": []
  },
  {
   "cell_type": "code",
   "execution_count": null,
   "id": "df9c8854",
   "metadata": {},
   "outputs": [],
   "source": []
  },
  {
   "cell_type": "code",
   "execution_count": null,
   "id": "7c506be4",
   "metadata": {},
   "outputs": [],
   "source": []
  },
  {
   "cell_type": "code",
   "execution_count": null,
   "id": "0bac60cb",
   "metadata": {},
   "outputs": [],
   "source": []
  },
  {
   "cell_type": "code",
   "execution_count": null,
   "id": "2e3ab57a",
   "metadata": {},
   "outputs": [],
   "source": []
  },
  {
   "cell_type": "code",
   "execution_count": null,
   "id": "829e1d0a",
   "metadata": {},
   "outputs": [],
   "source": []
  },
  {
   "cell_type": "code",
   "execution_count": null,
   "id": "814ac543",
   "metadata": {},
   "outputs": [],
   "source": []
  },
  {
   "cell_type": "code",
   "execution_count": null,
   "id": "55f8b3cb",
   "metadata": {},
   "outputs": [],
   "source": []
  },
  {
   "cell_type": "code",
   "execution_count": null,
   "id": "538c43e1",
   "metadata": {},
   "outputs": [],
   "source": []
  },
  {
   "cell_type": "code",
   "execution_count": null,
   "id": "e3878ec9",
   "metadata": {},
   "outputs": [],
   "source": []
  },
  {
   "cell_type": "code",
   "execution_count": null,
   "id": "92215107",
   "metadata": {},
   "outputs": [],
   "source": []
  },
  {
   "cell_type": "code",
   "execution_count": null,
   "id": "4c52d788",
   "metadata": {},
   "outputs": [],
   "source": []
  },
  {
   "cell_type": "code",
   "execution_count": null,
   "id": "9ee03344",
   "metadata": {},
   "outputs": [],
   "source": []
  },
  {
   "cell_type": "code",
   "execution_count": null,
   "id": "0d61609b",
   "metadata": {},
   "outputs": [],
   "source": []
  },
  {
   "cell_type": "code",
   "execution_count": null,
   "id": "e9cb2393",
   "metadata": {},
   "outputs": [],
   "source": []
  },
  {
   "cell_type": "code",
   "execution_count": null,
   "id": "399a5335",
   "metadata": {},
   "outputs": [],
   "source": []
  },
  {
   "cell_type": "code",
   "execution_count": null,
   "id": "2d8b007d",
   "metadata": {},
   "outputs": [],
   "source": []
  },
  {
   "cell_type": "code",
   "execution_count": null,
   "id": "18454e9f",
   "metadata": {},
   "outputs": [],
   "source": []
  },
  {
   "cell_type": "code",
   "execution_count": null,
   "id": "d6a42915",
   "metadata": {},
   "outputs": [],
   "source": []
  },
  {
   "cell_type": "code",
   "execution_count": null,
   "id": "a87355b6",
   "metadata": {},
   "outputs": [],
   "source": []
  },
  {
   "cell_type": "code",
   "execution_count": null,
   "id": "3a1d81bf",
   "metadata": {},
   "outputs": [],
   "source": []
  },
  {
   "cell_type": "code",
   "execution_count": null,
   "id": "f6ffca81",
   "metadata": {},
   "outputs": [],
   "source": []
  }
 ],
 "metadata": {
  "kernelspec": {
   "display_name": "Python 3",
   "language": "python",
   "name": "python3"
  },
  "language_info": {
   "codemirror_mode": {
    "name": "ipython",
    "version": 3
   },
   "file_extension": ".py",
   "mimetype": "text/x-python",
   "name": "python",
   "nbconvert_exporter": "python",
   "pygments_lexer": "ipython3",
   "version": "3.8.8"
  }
 },
 "nbformat": 4,
 "nbformat_minor": 5
}
