{
 "cells": [
  {
   "cell_type": "markdown",
   "id": "6b8287ab",
   "metadata": {},
   "source": [
    "# Lecture-5 List and Dictionary"
   ]
  },
  {
   "cell_type": "code",
   "execution_count": 2,
   "id": "c77f0588",
   "metadata": {},
   "outputs": [
    {
     "name": "stdout",
     "output_type": "stream",
     "text": [
      "<class 'list'>\n",
      "[1, 2, 3, 4]\n"
     ]
    }
   ],
   "source": [
    "# it is independent to data type\n",
    "# let any variable\n",
    "\n",
    "list =[1,2,3,4]   # list created\n",
    "print (type (list))\n",
    "print (list)\n",
    "\n"
   ]
  },
  {
   "cell_type": "code",
   "execution_count": 4,
   "id": "d05f28e1",
   "metadata": {},
   "outputs": [
    {
     "data": {
      "text/plain": [
       "3"
      ]
     },
     "execution_count": 4,
     "metadata": {},
     "output_type": "execute_result"
    }
   ],
   "source": [
    "# Check index in the list\n",
    "\n",
    "list =[1,2,3,4]   # list created\n",
    "list [2]\n"
   ]
  },
  {
   "cell_type": "code",
   "execution_count": 6,
   "id": "5eb29932",
   "metadata": {},
   "outputs": [
    {
     "data": {
      "text/plain": [
       "int"
      ]
     },
     "execution_count": 6,
     "metadata": {},
     "output_type": "execute_result"
    }
   ],
   "source": [
    "#print type of any index value\n",
    "\n",
    "list =[1,2,3,4]   # list created\n",
    "type (list [-3]) \n"
   ]
  },
  {
   "cell_type": "code",
   "execution_count": 8,
   "id": "5141deed",
   "metadata": {},
   "outputs": [
    {
     "data": {
      "text/plain": [
       "[1, 2, 3, 4, 5.5, 2, 4, 7.9]"
      ]
     },
     "execution_count": 8,
     "metadata": {},
     "output_type": "execute_result"
    }
   ],
   "source": [
    "# Add extra indexes in the list\n",
    "\n",
    "list =[1,2,3,4]   # list created\n",
    "list =list +[5.5,2,4,7.9]\n",
    "list\n"
   ]
  },
  {
   "cell_type": "code",
   "execution_count": 13,
   "id": "44338131",
   "metadata": {},
   "outputs": [
    {
     "name": "stdout",
     "output_type": "stream",
     "text": [
      "[1, 2, 3, 4, 5.5, 2, 4, 7.9, 'UMT', 'UCP', 'UOL', 'UMT', 'UCP', 'UOL', 'UMT', 'UCP', 'UOL']\n"
     ]
    }
   ],
   "source": [
    "# Add extra indexes in the list\n",
    "\n",
    "string=['UMT', 'UCP','UOL']\n",
    "list =list +string        # concatenate both arrays\n",
    "print (list)"
   ]
  },
  {
   "cell_type": "code",
   "execution_count": 14,
   "id": "2f6208f0",
   "metadata": {},
   "outputs": [
    {
     "name": "stdout",
     "output_type": "stream",
     "text": [
      "[1, 2, 3, 4, 5.5, 2, 4, 7.9, 'UMT', 'UCP', 'UOL', 'UMT', 'UCP', 'UOL', 'UMT', 'UCP', 'UOL', 'UMT', 'UCP', 'UOL', 55, 66, 67, 68]\n"
     ]
    }
   ],
   "source": [
    "# same as + to add strings\n",
    "\n",
    "string=['UMT', 'UCP','UOL']\n",
    "list =list +string        # concatenate both arrays\n",
    "list.extend([55,66,67,68])\n",
    "print (list)\n"
   ]
  },
  {
   "cell_type": "code",
   "execution_count": 15,
   "id": "3cbe0756",
   "metadata": {},
   "outputs": [
    {
     "name": "stdout",
     "output_type": "stream",
     "text": [
      "[1, 2, 3, 4, 5.5, 12345678, 2, 4, 7.9, 'UMT', 'UCP', 'UOL', 'UMT', 'UCP', 'UOL', 'UMT', 'UCP', 'UOL', 'UMT', 'UCP', 'UOL', 55, 66, 67, 68, 'UMT', 'UCP', 'UOL', 55, 66, 67, 68]\n"
     ]
    }
   ],
   "source": [
    "# Insert value at any index\n",
    "\n",
    "string=['UMT', 'UCP','UOL']\n",
    "list =list +string        # concatenate both arrays\n",
    "list.extend([55,66,67,68])  \n",
    "list.insert(5,12345678)    # 5 is index and 1234567 is the value to insert\n",
    "print (list)"
   ]
  },
  {
   "cell_type": "code",
   "execution_count": 16,
   "id": "cff3292a",
   "metadata": {},
   "outputs": [
    {
     "name": "stdout",
     "output_type": "stream",
     "text": [
      "[1, 2, 3, 4, 5.5, 12345678, 12345678, 2, 4, 7.9, 'UMT', 'UCP', 'UOL', 'UMT', 'UCP', 'UOL', 'UMT', 'UCP', 'UOL', 'UMT', 'UCP', 'UOL', 55, 66, 67, 68, 'UMT', 'UCP', 'UOL', 55, 66, 67, 68, 'UMT', 'UCP', 'UOL', 55, 66, 67, 68, ['Change', 'in', 'Pakistan']]\n"
     ]
    }
   ],
   "source": [
    "# append value at any index\n",
    "\n",
    "string=['UMT', 'UCP','UOL']\n",
    "list =list +string        # concatenate both arrays\n",
    "list.extend([55,66,67,68])  \n",
    "list.insert(5,12345678)    # 5 is index and 1234567 is the value to insert\n",
    "list.append(['Change','in','Pakistan'])\n",
    "print (list)"
   ]
  },
  {
   "cell_type": "code",
   "execution_count": 17,
   "id": "cea7baa0",
   "metadata": {},
   "outputs": [
    {
     "data": {
      "text/plain": [
       "['Change', 'in', 'Pakistan']"
      ]
     },
     "execution_count": 17,
     "metadata": {},
     "output_type": "execute_result"
    }
   ],
   "source": [
    "# append value at any index , append is at one index only\n",
    "\n",
    "list[-1]   # SHows the final append list by -1 index"
   ]
  },
  {
   "cell_type": "code",
   "execution_count": 18,
   "id": "34b1ba70",
   "metadata": {},
   "outputs": [
    {
     "data": {
      "text/plain": [
       "'Pakistan'"
      ]
     },
     "execution_count": 18,
     "metadata": {},
     "output_type": "execute_result"
    }
   ],
   "source": [
    "# append value at any index\n",
    "\n",
    "list[-1][2]   # -1 append list index, 2 enters in the word"
   ]
  },
  {
   "cell_type": "code",
   "execution_count": 19,
   "id": "fb6a9f2f",
   "metadata": {},
   "outputs": [
    {
     "data": {
      "text/plain": [
       "'i'"
      ]
     },
     "execution_count": 19,
     "metadata": {},
     "output_type": "execute_result"
    }
   ],
   "source": [
    "# data in the append list\n",
    "\n",
    "list[-1][2][3]   # -1 append list index, 2 enters in the word, 3 is the index of the word accessed by index 2"
   ]
  },
  {
   "cell_type": "code",
   "execution_count": 23,
   "id": "43453b4b",
   "metadata": {},
   "outputs": [
    {
     "data": {
      "text/plain": [
       "[1,\n",
       " 2,\n",
       " 3,\n",
       " 4,\n",
       " 5.5,\n",
       " 4,\n",
       " 7.9,\n",
       " 'UMT',\n",
       " 'UCP',\n",
       " 'UOL',\n",
       " 'UMT',\n",
       " 'UCP',\n",
       " 'UOL',\n",
       " 'UMT',\n",
       " 'UCP',\n",
       " 'UOL',\n",
       " 'UMT',\n",
       " 'UCP',\n",
       " 'UOL',\n",
       " 55,\n",
       " 66,\n",
       " 67,\n",
       " 68,\n",
       " 'UMT',\n",
       " 'UCP',\n",
       " 'UOL',\n",
       " 55,\n",
       " 66,\n",
       " 67,\n",
       " 68,\n",
       " 'UMT',\n",
       " 'UCP',\n",
       " 'UOL',\n",
       " 55,\n",
       " 66,\n",
       " 67,\n",
       " 68,\n",
       " ['Change', 'in', 'Pakistan']]"
      ]
     },
     "execution_count": 23,
     "metadata": {},
     "output_type": "execute_result"
    }
   ],
   "source": [
    "# Deletion  - del\n",
    "\n",
    "#del - remove the value at any particular index\n",
    "#remove\n",
    "#pop\n",
    "\n",
    "del list [5]\n",
    "list"
   ]
  },
  {
   "cell_type": "code",
   "execution_count": 26,
   "id": "543bda6a",
   "metadata": {},
   "outputs": [
    {
     "data": {
      "text/plain": [
       "[1,\n",
       " 2,\n",
       " 3,\n",
       " 4,\n",
       " 5.5,\n",
       " 4,\n",
       " 7.9,\n",
       " 'UCP',\n",
       " 'UOL',\n",
       " 'UCP',\n",
       " 'UOL',\n",
       " 'UMT',\n",
       " 'UCP',\n",
       " 'UOL',\n",
       " 'UMT',\n",
       " 'UCP',\n",
       " 'UOL',\n",
       " 55,\n",
       " 66,\n",
       " 67,\n",
       " 68,\n",
       " 'UMT',\n",
       " 'UCP',\n",
       " 'UOL',\n",
       " 55,\n",
       " 66,\n",
       " 67,\n",
       " 68,\n",
       " 'UMT',\n",
       " 'UCP',\n",
       " 'UOL',\n",
       " 55,\n",
       " 66,\n",
       " 67,\n",
       " 68,\n",
       " ['Change', 'in', 'Pakistan']]"
      ]
     },
     "execution_count": 26,
     "metadata": {},
     "output_type": "execute_result"
    }
   ],
   "source": [
    "# Deletion - \n",
    "\n",
    "#del - remove the value at any particular index\n",
    "#remove\n",
    "#pop\n",
    "\n",
    "list.remove('UMT')\n",
    "list"
   ]
  },
  {
   "cell_type": "code",
   "execution_count": 29,
   "id": "c4251661",
   "metadata": {},
   "outputs": [
    {
     "data": {
      "text/plain": [
       "[1,\n",
       " 2,\n",
       " 3,\n",
       " 4,\n",
       " 5.5,\n",
       " 4,\n",
       " 7.9,\n",
       " 'UCP',\n",
       " 'UOL',\n",
       " 'UCP',\n",
       " 'UOL',\n",
       " 'UMT',\n",
       " 'UCP',\n",
       " 'UOL',\n",
       " 'UMT',\n",
       " 'UCP',\n",
       " 'UOL',\n",
       " 55,\n",
       " 66,\n",
       " 67,\n",
       " 68,\n",
       " 'UMT',\n",
       " 'UCP',\n",
       " 'UOL',\n",
       " 55,\n",
       " 66,\n",
       " 67,\n",
       " 68,\n",
       " 'UMT',\n",
       " 'UCP',\n",
       " 'UOL',\n",
       " 55,\n",
       " 66,\n",
       " 67,\n",
       " 68]"
      ]
     },
     "execution_count": 29,
     "metadata": {},
     "output_type": "execute_result"
    }
   ],
   "source": [
    "# Deletion - pop\n",
    "\n",
    "#del - remove the value at any particular index\n",
    "#remove\n",
    "#pop - delete the last value\n",
    "\n",
    "list.pop()\n",
    "list"
   ]
  },
  {
   "cell_type": "code",
   "execution_count": 32,
   "id": "1fb9112f",
   "metadata": {},
   "outputs": [
    {
     "ename": "TypeError",
     "evalue": "'<' not supported between instances of 'str' and 'float'",
     "output_type": "error",
     "traceback": [
      "\u001b[1;31m---------------------------------------------------------------------------\u001b[0m",
      "\u001b[1;31mTypeError\u001b[0m                                 Traceback (most recent call last)",
      "\u001b[1;32m<ipython-input-32-4b0963b65c73>\u001b[0m in \u001b[0;36m<module>\u001b[1;34m\u001b[0m\n\u001b[0;32m      5\u001b[0m \u001b[1;31m#pop - delete the last value\u001b[0m\u001b[1;33m\u001b[0m\u001b[1;33m\u001b[0m\u001b[1;33m\u001b[0m\u001b[0m\n\u001b[0;32m      6\u001b[0m \u001b[1;33m\u001b[0m\u001b[0m\n\u001b[1;32m----> 7\u001b[1;33m \u001b[0mlist\u001b[0m\u001b[1;33m.\u001b[0m\u001b[0msort\u001b[0m\u001b[1;33m(\u001b[0m\u001b[1;33m)\u001b[0m    \u001b[1;31m# error due to different datatypes( sort in ascending order)\u001b[0m\u001b[1;33m\u001b[0m\u001b[1;33m\u001b[0m\u001b[0m\n\u001b[0m\u001b[0;32m      8\u001b[0m \u001b[0mlist\u001b[0m\u001b[1;33m\u001b[0m\u001b[1;33m\u001b[0m\u001b[0m\n",
      "\u001b[1;31mTypeError\u001b[0m: '<' not supported between instances of 'str' and 'float'"
     ]
    }
   ],
   "source": [
    "# Deletion - pop\n",
    "\n",
    "#del - remove the value at any particular index\n",
    "#remove\n",
    "#pop - delete the last value\n",
    "\n",
    "list.sort()    # error due to different datatypes( sort in ascending order)\n",
    "list"
   ]
  },
  {
   "cell_type": "markdown",
   "id": "abb298d2",
   "metadata": {},
   "source": [
    "# Dictionary(d)"
   ]
  },
  {
   "cell_type": "code",
   "execution_count": 42,
   "id": "ac3386f5",
   "metadata": {},
   "outputs": [
    {
     "data": {
      "text/plain": [
       "dict"
      ]
     },
     "execution_count": 42,
     "metadata": {},
     "output_type": "execute_result"
    }
   ],
   "source": [
    "# Key  ----- Unique.....Values\n",
    "d={\n",
    "   'Country':['Pakistan','Iran','China'],           # the indexes in all the lists should be same\n",
    "   'Capital': ['Islamabad','Tehran','Beijing'],\n",
    "   'Population': [24.5,22.7,135,175.9]\n",
    "  }\n",
    "type(d)\n"
   ]
  },
  {
   "cell_type": "code",
   "execution_count": 43,
   "id": "5232bb04",
   "metadata": {},
   "outputs": [
    {
     "data": {
      "text/plain": [
       "dict_keys(['Country', 'Capital', 'Population'])"
      ]
     },
     "execution_count": 43,
     "metadata": {},
     "output_type": "execute_result"
    }
   ],
   "source": [
    "# Keys \n",
    "\n",
    "d={\n",
    "   'Country':['Pakistan','Iran','China'],           # the indexes in all the lists should be same\n",
    "   'Capital': ['Islamabad','Tehran','Beijing'],\n",
    "   'Population': [24.5,22.7,135,175.9]\n",
    "  }\n",
    "d.keys()\n"
   ]
  },
  {
   "cell_type": "code",
   "execution_count": 45,
   "id": "c7b927aa",
   "metadata": {},
   "outputs": [
    {
     "data": {
      "text/plain": [
       "dict_values([['Pakistan', 'Iran', 'China'], ['Islamabad', 'Tehran', 'Beijing'], [24.5, 22.7, 135, 175.9]])"
      ]
     },
     "execution_count": 45,
     "metadata": {},
     "output_type": "execute_result"
    }
   ],
   "source": [
    "# Values\n",
    "\n",
    "d={\n",
    "   'Country':['Pakistan','Iran','China'],           # the indexes in all the lists should be same\n",
    "   'Capital': ['Islamabad','Tehran','Beijing'],\n",
    "   'Population': [24.5,22.7,135,175.9]\n",
    "  }\n",
    "d.values()"
   ]
  },
  {
   "cell_type": "code",
   "execution_count": 46,
   "id": "52937d94",
   "metadata": {},
   "outputs": [
    {
     "data": {
      "text/plain": [
       "dict_items([('Country', ['Pakistan', 'Iran', 'China']), ('Capital', ['Islamabad', 'Tehran', 'Beijing']), ('Population', [24.5, 22.7, 135, 175.9])])"
      ]
     },
     "execution_count": 46,
     "metadata": {},
     "output_type": "execute_result"
    }
   ],
   "source": [
    "# whole data\n",
    "\n",
    "d={\n",
    "   'Country':['Pakistan','Iran','China'],           # the indexes in all the lists should be same\n",
    "   'Capital': ['Islamabad','Tehran','Beijing'],\n",
    "   'Population': [24.5,22.7,135,175.9]\n",
    "  }\n",
    "d.items()"
   ]
  },
  {
   "cell_type": "code",
   "execution_count": 47,
   "id": "5544814d",
   "metadata": {},
   "outputs": [
    {
     "name": "stdout",
     "output_type": "stream",
     "text": [
      "Country\n",
      "Capital\n",
      "Population\n"
     ]
    }
   ],
   "source": [
    "# keys by loop\n",
    "\n",
    "d={\n",
    "   'Country':['Pakistan','Iran','China'],           # the indexes in all the lists should be same\n",
    "   'Capital': ['Islamabad','Tehran','Beijing'],\n",
    "   'Population': [24.5,22.7,135,175.9]\n",
    "  }\n",
    "for k in d.keys():\n",
    "    print (k)"
   ]
  },
  {
   "cell_type": "code",
   "execution_count": 48,
   "id": "912beb74",
   "metadata": {},
   "outputs": [
    {
     "name": "stdout",
     "output_type": "stream",
     "text": [
      "['Pakistan', 'Iran', 'China']\n",
      "['Islamabad', 'Tehran', 'Beijing']\n",
      "[24.5, 22.7, 135, 175.9]\n"
     ]
    }
   ],
   "source": [
    "# values by loop\n",
    "\n",
    "d={\n",
    "   'Country':['Pakistan','Iran','China'],           # the indexes in all the lists should be same\n",
    "   'Capital': ['Islamabad','Tehran','Beijing'],\n",
    "   'Population': [24.5,22.7,135,175.9]\n",
    "  }\n",
    "for k in d.values():\n",
    "    print (k)"
   ]
  },
  {
   "cell_type": "code",
   "execution_count": 60,
   "id": "dd72bc63",
   "metadata": {},
   "outputs": [
    {
     "name": "stdout",
     "output_type": "stream",
     "text": [
      "Country  =>  ['Pakistan', 'Iran', 'China']\n",
      "Capital  =>  ['Islamabad', 'Tehran', 'Beijing']\n",
      "Population  =>  [24.5, 22.7, 135]\n"
     ]
    }
   ],
   "source": [
    "# keys by loop\n",
    "\n",
    "d={\n",
    "   'Country':['Pakistan','Iran','China'],           # the indexes in all the lists should be same\n",
    "   'Capital': ['Islamabad','Tehran','Beijing'],\n",
    "   'Population': [24.5,22.7,135]\n",
    "  }\n",
    "for k,v in d.items():\n",
    "    print (k,' => ',v)    # Separate keys and values by => "
   ]
  },
  {
   "cell_type": "markdown",
   "id": "2fa9f23e",
   "metadata": {},
   "source": [
    "# Pandas"
   ]
  },
  {
   "cell_type": "code",
   "execution_count": 58,
   "id": "77dd4b1b",
   "metadata": {},
   "outputs": [],
   "source": [
    "import pandas as pd     # it makes the object , pandas is the library to clean the data\n",
    "# just import the library\n"
   ]
  },
  {
   "cell_type": "code",
   "execution_count": 62,
   "id": "fccfc1a8",
   "metadata": {},
   "outputs": [
    {
     "data": {
      "text/html": [
       "<div>\n",
       "<style scoped>\n",
       "    .dataframe tbody tr th:only-of-type {\n",
       "        vertical-align: middle;\n",
       "    }\n",
       "\n",
       "    .dataframe tbody tr th {\n",
       "        vertical-align: top;\n",
       "    }\n",
       "\n",
       "    .dataframe thead th {\n",
       "        text-align: right;\n",
       "    }\n",
       "</style>\n",
       "<table border=\"1\" class=\"dataframe\">\n",
       "  <thead>\n",
       "    <tr style=\"text-align: right;\">\n",
       "      <th></th>\n",
       "      <th>Country</th>\n",
       "      <th>Capital</th>\n",
       "      <th>Population</th>\n",
       "    </tr>\n",
       "  </thead>\n",
       "  <tbody>\n",
       "    <tr>\n",
       "      <th>0</th>\n",
       "      <td>Pakistan</td>\n",
       "      <td>Islamabad</td>\n",
       "      <td>24.5</td>\n",
       "    </tr>\n",
       "    <tr>\n",
       "      <th>1</th>\n",
       "      <td>Iran</td>\n",
       "      <td>Tehran</td>\n",
       "      <td>22.7</td>\n",
       "    </tr>\n",
       "    <tr>\n",
       "      <th>2</th>\n",
       "      <td>China</td>\n",
       "      <td>Beijing</td>\n",
       "      <td>135.0</td>\n",
       "    </tr>\n",
       "  </tbody>\n",
       "</table>\n",
       "</div>"
      ],
      "text/plain": [
       "    Country    Capital  Population\n",
       "0  Pakistan  Islamabad        24.5\n",
       "1      Iran     Tehran        22.7\n",
       "2     China    Beijing       135.0"
      ]
     },
     "execution_count": 62,
     "metadata": {},
     "output_type": "execute_result"
    }
   ],
   "source": [
    "df = pd.DataFrame.from_dict(d)    #Dataframe is the keyword for making Table\n",
    "df"
   ]
  },
  {
   "cell_type": "code",
   "execution_count": 65,
   "id": "9844fb09",
   "metadata": {},
   "outputs": [],
   "source": [
    "# Create and write a data in separate file\n",
    "df.to_csv('pbd_d3.csv',index=False, header=True)   # index not mentioned, headers data will be placed, df is a variable"
   ]
  },
  {
   "cell_type": "code",
   "execution_count": 71,
   "id": "aaceb044",
   "metadata": {},
   "outputs": [
    {
     "data": {
      "text/html": [
       "<div>\n",
       "<style scoped>\n",
       "    .dataframe tbody tr th:only-of-type {\n",
       "        vertical-align: middle;\n",
       "    }\n",
       "\n",
       "    .dataframe tbody tr th {\n",
       "        vertical-align: top;\n",
       "    }\n",
       "\n",
       "    .dataframe thead th {\n",
       "        text-align: right;\n",
       "    }\n",
       "</style>\n",
       "<table border=\"1\" class=\"dataframe\">\n",
       "  <thead>\n",
       "    <tr style=\"text-align: right;\">\n",
       "      <th></th>\n",
       "      <th>Country</th>\n",
       "      <th>Capital</th>\n",
       "      <th>Population</th>\n",
       "    </tr>\n",
       "  </thead>\n",
       "  <tbody>\n",
       "    <tr>\n",
       "      <th>0</th>\n",
       "      <td>Pakistan</td>\n",
       "      <td>Islamabad</td>\n",
       "      <td>24.5</td>\n",
       "    </tr>\n",
       "    <tr>\n",
       "      <th>1</th>\n",
       "      <td>Iran</td>\n",
       "      <td>Tehran</td>\n",
       "      <td>22.7</td>\n",
       "    </tr>\n",
       "  </tbody>\n",
       "</table>\n",
       "</div>"
      ],
      "text/plain": [
       "    Country    Capital  Population\n",
       "0  Pakistan  Islamabad        24.5\n",
       "1      Iran     Tehran        22.7"
      ]
     },
     "execution_count": 71,
     "metadata": {},
     "output_type": "execute_result"
    }
   ],
   "source": [
    "# Read a data from file\n",
    "\n",
    "dff=pd.read_csv('pbd_d3.csv')   # index not mentioned, headers data will be placed, df is a variable,   .csv-comma separte file\n",
    "dff.head(2)    # 3 is the number of the rows to display from head(top)"
   ]
  },
  {
   "cell_type": "code",
   "execution_count": 70,
   "id": "7eb3da23",
   "metadata": {},
   "outputs": [
    {
     "data": {
      "text/html": [
       "<div>\n",
       "<style scoped>\n",
       "    .dataframe tbody tr th:only-of-type {\n",
       "        vertical-align: middle;\n",
       "    }\n",
       "\n",
       "    .dataframe tbody tr th {\n",
       "        vertical-align: top;\n",
       "    }\n",
       "\n",
       "    .dataframe thead th {\n",
       "        text-align: right;\n",
       "    }\n",
       "</style>\n",
       "<table border=\"1\" class=\"dataframe\">\n",
       "  <thead>\n",
       "    <tr style=\"text-align: right;\">\n",
       "      <th></th>\n",
       "      <th>Country</th>\n",
       "      <th>Capital</th>\n",
       "      <th>Population</th>\n",
       "    </tr>\n",
       "  </thead>\n",
       "  <tbody>\n",
       "    <tr>\n",
       "      <th>1</th>\n",
       "      <td>Iran</td>\n",
       "      <td>Tehran</td>\n",
       "      <td>22.7</td>\n",
       "    </tr>\n",
       "    <tr>\n",
       "      <th>2</th>\n",
       "      <td>China</td>\n",
       "      <td>Beijing</td>\n",
       "      <td>135.0</td>\n",
       "    </tr>\n",
       "  </tbody>\n",
       "</table>\n",
       "</div>"
      ],
      "text/plain": [
       "  Country  Capital  Population\n",
       "1    Iran   Tehran        22.7\n",
       "2   China  Beijing       135.0"
      ]
     },
     "execution_count": 70,
     "metadata": {},
     "output_type": "execute_result"
    }
   ],
   "source": [
    "# Read a data from file\n",
    "\n",
    "dff=pd.read_csv('pbd_d3.csv')   # index not mentioned, headers data will be placed, df is a variable,   .csv-comma separte file\n",
    "dff.tail(2)    # 3 is the number of the rows to display from head(top)"
   ]
  },
  {
   "cell_type": "markdown",
   "id": "55dbd2dc",
   "metadata": {},
   "source": [
    "# Tuple ( value not change-able, like constant variable)"
   ]
  },
  {
   "cell_type": "code",
   "execution_count": 72,
   "id": "f82e1e42",
   "metadata": {},
   "outputs": [
    {
     "data": {
      "text/plain": [
       "tuple"
      ]
     },
     "execution_count": 72,
     "metadata": {},
     "output_type": "execute_result"
    }
   ],
   "source": [
    "# ex, registration is a tuple, not changeable\n",
    "\n",
    "t= (1,2,3,4)\n",
    "type(t)"
   ]
  },
  {
   "cell_type": "code",
   "execution_count": 76,
   "id": "f4c76c0b",
   "metadata": {},
   "outputs": [
    {
     "data": {
      "text/plain": [
       "(1, 2, 3)"
      ]
     },
     "execution_count": 76,
     "metadata": {},
     "output_type": "execute_result"
    }
   ],
   "source": [
    "t= (1,2,3,4)\n",
    "t[0:3]    # first and last index"
   ]
  },
  {
   "cell_type": "code",
   "execution_count": 78,
   "id": "810d3784",
   "metadata": {},
   "outputs": [
    {
     "data": {
      "text/plain": [
       "(1, 2, 3, 4, 55, 44, 33)"
      ]
     },
     "execution_count": 78,
     "metadata": {},
     "output_type": "execute_result"
    }
   ],
   "source": [
    "# Concatenation of tuple\n",
    "t= (1,2,3,4)\n",
    "t=t+(55,44,33)\n",
    "t"
   ]
  },
  {
   "cell_type": "code",
   "execution_count": 79,
   "id": "3f6b48f1",
   "metadata": {},
   "outputs": [
    {
     "data": {
      "text/plain": [
       "[1,\n",
       " 2,\n",
       " 3,\n",
       " 4,\n",
       " 4,\n",
       " 5.5,\n",
       " 7.9,\n",
       " 'UCP',\n",
       " 'UOL',\n",
       " 'UCP',\n",
       " 'UOL',\n",
       " 'UMT',\n",
       " 'UCP',\n",
       " 'UOL',\n",
       " 'UMT',\n",
       " 'UCP',\n",
       " 'UOL',\n",
       " 55,\n",
       " 66,\n",
       " 67,\n",
       " 68,\n",
       " 'UMT',\n",
       " 'UCP',\n",
       " 'UOL',\n",
       " 55,\n",
       " 66,\n",
       " 67,\n",
       " 68,\n",
       " 'UMT',\n",
       " 'UCP',\n",
       " 'UOL',\n",
       " 55,\n",
       " 66,\n",
       " 67,\n",
       " 68]"
      ]
     },
     "execution_count": 79,
     "metadata": {},
     "output_type": "execute_result"
    }
   ],
   "source": [
    "list"
   ]
  },
  {
   "cell_type": "code",
   "execution_count": 82,
   "id": "a44a0006",
   "metadata": {},
   "outputs": [
    {
     "data": {
      "text/plain": [
       "(1,\n",
       " 2,\n",
       " 3,\n",
       " 4,\n",
       " 55,\n",
       " 44,\n",
       " 33,\n",
       " 1,\n",
       " 2,\n",
       " 3,\n",
       " 4,\n",
       " 4,\n",
       " 5.5,\n",
       " 7.9,\n",
       " 'UCP',\n",
       " 'UOL',\n",
       " 'UCP',\n",
       " 'UOL',\n",
       " 'UMT',\n",
       " 'UCP',\n",
       " 'UOL',\n",
       " 'UMT',\n",
       " 'UCP',\n",
       " 'UOL',\n",
       " 55,\n",
       " 66,\n",
       " 67,\n",
       " 68,\n",
       " 'UMT',\n",
       " 'UCP',\n",
       " 'UOL',\n",
       " 55,\n",
       " 66,\n",
       " 67,\n",
       " 68,\n",
       " 'UMT',\n",
       " 'UCP',\n",
       " 'UOL',\n",
       " 55,\n",
       " 66,\n",
       " 67,\n",
       " 68,\n",
       " 1,\n",
       " 2,\n",
       " 3,\n",
       " 4,\n",
       " 4,\n",
       " 5.5,\n",
       " 7.9,\n",
       " 'UCP',\n",
       " 'UOL',\n",
       " 'UCP',\n",
       " 'UOL',\n",
       " 'UMT',\n",
       " 'UCP',\n",
       " 'UOL',\n",
       " 'UMT',\n",
       " 'UCP',\n",
       " 'UOL',\n",
       " 55,\n",
       " 66,\n",
       " 67,\n",
       " 68,\n",
       " 'UMT',\n",
       " 'UCP',\n",
       " 'UOL',\n",
       " 55,\n",
       " 66,\n",
       " 67,\n",
       " 68,\n",
       " 'UMT',\n",
       " 'UCP',\n",
       " 'UOL',\n",
       " 55,\n",
       " 66,\n",
       " 67,\n",
       " 68)"
      ]
     },
     "execution_count": 82,
     "metadata": {},
     "output_type": "execute_result"
    }
   ],
   "source": [
    "t=t+tuple (list)\n",
    "t"
   ]
  },
  {
   "cell_type": "code",
   "execution_count": null,
   "id": "359af11c",
   "metadata": {},
   "outputs": [],
   "source": []
  }
 ],
 "metadata": {
  "kernelspec": {
   "display_name": "Python 3",
   "language": "python",
   "name": "python3"
  },
  "language_info": {
   "codemirror_mode": {
    "name": "ipython",
    "version": 3
   },
   "file_extension": ".py",
   "mimetype": "text/x-python",
   "name": "python",
   "nbconvert_exporter": "python",
   "pygments_lexer": "ipython3",
   "version": "3.8.8"
  }
 },
 "nbformat": 4,
 "nbformat_minor": 5
}
