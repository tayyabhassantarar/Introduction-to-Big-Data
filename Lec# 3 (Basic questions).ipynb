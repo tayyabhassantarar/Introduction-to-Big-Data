{
 "cells": [
  {
   "cell_type": "code",
   "execution_count": 1,
   "id": "d8781f20",
   "metadata": {},
   "outputs": [
    {
     "name": "stdout",
     "output_type": "stream",
     "text": [
      "Enter X value: 48\n",
      "48  is not a Prime number\n"
     ]
    }
   ],
   "source": [
    "# Checking Prime Number\n",
    "\n",
    "\n",
    "f= False              #flag declared to false\n",
    "x= int (input (\"Enter X value: \"))\n",
    "for i in range (2,x,1):\n",
    "    if x%i==0:\n",
    "        f =True\n",
    "if f:\n",
    "    print (x, \" is not a Prime number\")\n",
    "else:\n",
    "    print (x, \" is a prime number\")"
   ]
  },
  {
   "cell_type": "code",
   "execution_count": null,
   "id": "25ada03d",
   "metadata": {},
   "outputs": [],
   "source": [
    "# Finding even and odd values\n",
    "\n",
    "\n",
    "x=int (input(\"Enter x value: \"))\n",
    "while x>10:\n",
    "    x=x//10   #removing floating value\n",
    "    \n",
    "if x%2==0:\n",
    "    print (\"Even\")\n",
    "else:\n",
    "    print(\"Odd\")"
   ]
  },
  {
   "cell_type": "code",
   "execution_count": 19,
   "id": "53375ac9",
   "metadata": {},
   "outputs": [
    {
     "name": "stdout",
     "output_type": "stream",
     "text": [
      "Enter x value: 31245312\n",
      "Even values are:  3\n",
      "Odd values are:  5\n"
     ]
    }
   ],
   "source": [
    "\n",
    "# Counting total odd and even digits in a pariticular number\n",
    "\n",
    "rem=ev=od=0   # initializing multiple variables\n",
    "x=int (input(\"Enter x value: \"))\n",
    "while x!=0:\n",
    "    rem=x%10\n",
    "    x=x//10    # removing floating values\n",
    "    if rem%2==0:\n",
    "        ev+=1\n",
    "    else:\n",
    "        od+=1\n",
    "\n",
    "print (\"Even values are: \", ev)\n",
    "print (\"Odd values are: \", od)\n",
    "    "
   ]
  },
  {
   "cell_type": "code",
   "execution_count": 6,
   "id": "b2816968",
   "metadata": {},
   "outputs": [
    {
     "name": "stdout",
     "output_type": "stream",
     "text": [
      "Hello abc.......\n"
     ]
    }
   ],
   "source": [
    "# Function calling\n",
    "\n",
    "def abc():   # Defination\n",
    "    print (\"Hello abc.......\")\n",
    "abc()  # Call"
   ]
  },
  {
   "cell_type": "markdown",
   "id": "6d25a672",
   "metadata": {},
   "source": [
    "# Calcultor \n",
    "\n",
    "def calculator(a,b):\n",
    "    return a+b, a-b, a*b, a/b   # it return values to \n",
    "\n",
    "add, sub, multi, divi= calculator(5,10)\n",
    "print (add, sub, multi, divi)"
   ]
  },
  {
   "cell_type": "code",
   "execution_count": null,
   "id": "c018c15c",
   "metadata": {},
   "outputs": [],
   "source": []
  }
 ],
 "metadata": {
  "kernelspec": {
   "display_name": "Python 3",
   "language": "python",
   "name": "python3"
  },
  "language_info": {
   "codemirror_mode": {
    "name": "ipython",
    "version": 3
   },
   "file_extension": ".py",
   "mimetype": "text/x-python",
   "name": "python",
   "nbconvert_exporter": "python",
   "pygments_lexer": "ipython3",
   "version": "3.8.8"
  }
 },
 "nbformat": 4,
 "nbformat_minor": 5
}
